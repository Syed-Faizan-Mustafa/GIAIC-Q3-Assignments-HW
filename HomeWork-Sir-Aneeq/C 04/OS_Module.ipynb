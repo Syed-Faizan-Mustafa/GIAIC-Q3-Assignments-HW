{
 "cells": [
  {
   "cell_type": "markdown",
   "metadata": {},
   "source": [
    "# OS MODULE (Operating system module)\n",
    "- In OS Module we are working with Directories."
   ]
  },
  {
   "cell_type": "code",
   "execution_count": 7,
   "metadata": {},
   "outputs": [
    {
     "name": "stdout",
     "output_type": "stream",
     "text": [
      "c:\\Users\\Administrator\\Documents\\Faizan Data\\Python Language Learning\\C 04\n",
      "['naya kaam', 'OS_Module.ipynb', 'recursion_function.ipynb']\n"
     ]
    },
    {
     "ename": "FileExistsError",
     "evalue": "[WinError 183] Cannot create a file when that file already exists: 'naya kaam'",
     "output_type": "error",
     "traceback": [
      "\u001b[1;31m---------------------------------------------------------------------------\u001b[0m",
      "\u001b[1;31mFileExistsError\u001b[0m                           Traceback (most recent call last)",
      "Cell \u001b[1;32mIn[7], line 4\u001b[0m\n\u001b[0;32m      2\u001b[0m \u001b[38;5;28mprint\u001b[39m(os\u001b[38;5;241m.\u001b[39mgetcwd()) \u001b[38;5;66;03m#getcwd() (get current working directory)\u001b[39;00m\n\u001b[0;32m      3\u001b[0m \u001b[38;5;28mprint\u001b[39m(os\u001b[38;5;241m.\u001b[39mlistdir()) \u001b[38;5;66;03m# listdir()  (list directory) we wanted to see all files or directories in working folder\u001b[39;00m\n\u001b[1;32m----> 4\u001b[0m os\u001b[38;5;241m.\u001b[39mmakedirs(\u001b[38;5;124m\"\u001b[39m\u001b[38;5;124mnaya kaam\u001b[39m\u001b[38;5;124m\"\u001b[39m)\n",
      "File \u001b[1;32m<frozen os>:225\u001b[0m, in \u001b[0;36mmakedirs\u001b[1;34m(name, mode, exist_ok)\u001b[0m\n",
      "\u001b[1;31mFileExistsError\u001b[0m: [WinError 183] Cannot create a file when that file already exists: 'naya kaam'"
     ]
    }
   ],
   "source": [
    "import os \n",
    "print(os.getcwd()) #getcwd() (get current working directory)\n",
    "print(os.listdir()) # listdir()  (list directory) we wanted to see all directories in working folder\n",
    "os.makedirs(\"naya kaam\") #makedirs() (make new directory or folder)\n"
   ]
  },
  {
   "cell_type": "code",
   "execution_count": null,
   "metadata": {},
   "outputs": [],
   "source": [
    "os.rename(\"naya kaam\", \"naye farmaish\") # rename directory\n"
   ]
  },
  {
   "cell_type": "code",
   "execution_count": 11,
   "metadata": {},
   "outputs": [],
   "source": [
    "os.rmdir(\"naye farmaish\") # rmdir() (remove directory k method se hum directory ko remove kartay hain)"
   ]
  },
  {
   "cell_type": "code",
   "execution_count": 13,
   "metadata": {},
   "outputs": [],
   "source": [
    "import shutil\n",
    "shutil.rmtree(\"New folder\") # ye remove karega us folder ko jo empty nahi hai."
   ]
  },
  {
   "cell_type": "code",
   "execution_count": null,
   "metadata": {},
   "outputs": [],
   "source": [
    "os.chdir(\"data\")\n"
   ]
  },
  {
   "cell_type": "code",
   "execution_count": 19,
   "metadata": {},
   "outputs": [
    {
     "name": "stdout",
     "output_type": "stream",
     "text": [
      "c:\\Users\\Administrator\\Documents\\Faizan Data\\Python Language Learning\\C 04\\data\n"
     ]
    }
   ],
   "source": [
    "print(os.getcwd())"
   ]
  },
  {
   "cell_type": "code",
   "execution_count": 22,
   "metadata": {},
   "outputs": [
    {
     "name": "stdout",
     "output_type": "stream",
     "text": [
      "None\n",
      "c:\\Users\\Administrator\\Documents\\Faizan Data\\Python Language Learning\n"
     ]
    }
   ],
   "source": [
    "print(os.chdir(\"..\"))\n",
    "print(os.getcwd())"
   ]
  },
  {
   "cell_type": "code",
   "execution_count": 31,
   "metadata": {},
   "outputs": [
    {
     "name": "stdout",
     "output_type": "stream",
     "text": [
      "None\n",
      "c:\\Users\\Administrator\\Documents\\Faizan Data\\Python Language Learning\\C 04\n"
     ]
    }
   ],
   "source": [
    "\n",
    "print(os.chdir(\"..\"))\n",
    "print(os.getcwd())"
   ]
  },
  {
   "cell_type": "code",
   "execution_count": 43,
   "metadata": {},
   "outputs": [
    {
     "name": "stdout",
     "output_type": "stream",
     "text": [
      "None\n",
      "c:\\Users\\Administrator\\Documents\\Faizan Data\\Python Language Learning\\C 04\n"
     ]
    }
   ],
   "source": [
    "# print(os.chdir(\"..\"))\n",
    "\n",
    "# print(os.getcwd())\n",
    "# print(os.chdir(\"Python Language Learning\"))\n",
    "print(os.chdir(\"C 04\"))\n",
    "\n",
    "print(os.getcwd())\n"
   ]
  },
  {
   "cell_type": "code",
   "execution_count": 44,
   "metadata": {},
   "outputs": [],
   "source": [
    "if os.path.isdir(\"C 04\"): # result will be in boolean due to we work with condition(if and else) True / False\n",
    "    os.rmdir(\"data\") # remove directory"
   ]
  }
 ],
 "metadata": {
  "kernelspec": {
   "display_name": "base",
   "language": "python",
   "name": "python3"
  },
  "language_info": {
   "codemirror_mode": {
    "name": "ipython",
    "version": 3
   },
   "file_extension": ".py",
   "mimetype": "text/x-python",
   "name": "python",
   "nbconvert_exporter": "python",
   "pygments_lexer": "ipython3",
   "version": "3.12.7"
  }
 },
 "nbformat": 4,
 "nbformat_minor": 2
}
