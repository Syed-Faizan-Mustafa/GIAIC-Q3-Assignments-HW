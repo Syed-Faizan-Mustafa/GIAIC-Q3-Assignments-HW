{
 "cells": [
  {
   "cell_type": "markdown",
   "metadata": {},
   "source": [
    "# Recursion / Recursive Functions.\n",
    "count down function."
   ]
  },
  {
   "cell_type": "code",
   "execution_count": 2,
   "metadata": {},
   "outputs": [
    {
     "name": "stdout",
     "output_type": "stream",
     "text": [
      "num>>> 10\n",
      "num>>> 9\n",
      "num>>> 8\n",
      "num>>> 7\n",
      "num>>> 6\n",
      "num>>> 5\n",
      "num>>> 4\n",
      "num>>> 3\n",
      "num>>> 2\n",
      "num>>> 1\n",
      "bas karde bhai\n"
     ]
    }
   ],
   "source": [
    "def count_down(num):\n",
    "    if num <=0:\n",
    "        print(\"bas karde bhai\")\n",
    "        return\n",
    "    print(\"num>>>\", num)\n",
    "    count_down(num-1)\n",
    "count_down(10)"
   ]
  }
 ],
 "metadata": {
  "kernelspec": {
   "display_name": "base",
   "language": "python",
   "name": "python3"
  },
  "language_info": {
   "codemirror_mode": {
    "name": "ipython",
    "version": 3
   },
   "file_extension": ".py",
   "mimetype": "text/x-python",
   "name": "python",
   "nbconvert_exporter": "python",
   "pygments_lexer": "ipython3",
   "version": "3.12.7"
  }
 },
 "nbformat": 4,
 "nbformat_minor": 2
}
