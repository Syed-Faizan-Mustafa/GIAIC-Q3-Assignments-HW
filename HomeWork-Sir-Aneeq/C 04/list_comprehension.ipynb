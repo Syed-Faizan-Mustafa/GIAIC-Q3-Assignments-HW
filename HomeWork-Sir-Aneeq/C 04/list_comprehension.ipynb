{
 "cells": [
  {
   "cell_type": "markdown",
   "metadata": {},
   "source": [
    "# List Comprehension\n",
    "- •\tList ko bananay ka asaan tareeqa hai, agar programmatically hum ne koi list banai, jese humne square ki list banai ya koi bhi list banai us ko bananay ka jo short tareeqa hai usay hum list comprehension kehtay hain."
   ]
  },
  {
   "cell_type": "code",
   "execution_count": 4,
   "metadata": {},
   "outputs": [
    {
     "name": "stdout",
     "output_type": "stream",
     "text": [
      "num>> 1\n",
      "num>> 4\n",
      "num>> 9\n",
      "num>> 16\n",
      "num>> 25\n",
      "num>> 36\n",
      "num>> 49\n",
      "num>> 64\n",
      "num>> 81\n",
      "num>> 100\n",
      "all num sqr>> [1, 4, 9, 16, 25, 36, 49, 64, 81, 100]\n"
     ]
    }
   ],
   "source": [
    "# this is the normal method for list generating of sqaure number\n",
    "numbers = [1,2,3,4,5,6,7,8,9,10]\n",
    "sqr_list = []\n",
    "for num in numbers:\n",
    "    sqr_num = num * num\n",
    "    print(\"num>>\", sqr_num)\n",
    "    sqr_list.append(sqr_num)\n",
    "\n",
    "print(\"all num sqr>>\", sqr_list)\n"
   ]
  },
  {
   "cell_type": "markdown",
   "metadata": {},
   "source": [
    "# List comprehension syntax\n",
    "- Sab se pehle variable_name=[ ].\n",
    "Ab jo bhi kaam hum perform karwaengay woh is long brackets k andar he karwaengay, humain 2nd line main janay ki zaroorat nahi hai.\n",
    "Tuo long brackets main sab se pehle hamaray paas ayega expression, is baad ayega\n",
    " for loop.\n",
    "# Variable_name = [expression for loop]\n"
   ]
  },
  {
   "cell_type": "code",
   "execution_count": 5,
   "metadata": {},
   "outputs": [
    {
     "name": "stdout",
     "output_type": "stream",
     "text": [
      "square num>>> [1, 4, 9, 16, 25, 36, 49, 64, 81, 100]\n"
     ]
    }
   ],
   "source": [
    "# sqr_list = []\n",
    "# for num in numbers:\n",
    "#     sqr_num = num * num\n",
    "#     sqr_list.append(sqr_num)\n",
    "numbers = [1,2,3,4,5,6,7,8,9,10]\n",
    "\n",
    "#               2  * 2   for 2   in [1,2,3,4,5,6,7,8,9,10]  this is the performing syntax.\n",
    "square_list = [num * num for num in numbers]\n",
    "print(\"square num>>>\", square_list)\n",
    "\n"
   ]
  },
  {
   "cell_type": "code",
   "execution_count": 6,
   "metadata": {},
   "outputs": [
    {
     "name": "stdout",
     "output_type": "stream",
     "text": [
      "True\n"
     ]
    }
   ],
   "source": [
    "# 2nd example: here we wanted to see even number.\n",
    "num = 10\n",
    "print(num % 2 == 0)"
   ]
  },
  {
   "cell_type": "code",
   "execution_count": 10,
   "metadata": {},
   "outputs": [
    {
     "name": "stdout",
     "output_type": "stream",
     "text": [
      "appended list>>> [2, 4, 6, 8, 10]\n"
     ]
    }
   ],
   "source": [
    "numbers = [1,2,3,4,5,6,7,8,9,10]\n",
    "even_list = []\n",
    "for num in numbers:\n",
    "    if num % 2 == 0:\n",
    "        # print(\"even numbers>>>\", num)\n",
    "        even_list.append(num) # expression\n",
    "print(\"appended list>>>\",even_list)"
   ]
  },
  {
   "cell_type": "code",
   "execution_count": 13,
   "metadata": {},
   "outputs": [
    {
     "name": "stdout",
     "output_type": "stream",
     "text": [
      "[2, 4, 6, 8, 10]\n"
     ]
    }
   ],
   "source": [
    "# List Comprehension\n",
    "# numbers = [1,2,3,4,5,6,7,8,9,10]\n",
    "even_list = [num for num in numbers if num % 2 ==0]\n",
    "print(even_list)"
   ]
  }
 ],
 "metadata": {
  "kernelspec": {
   "display_name": "base",
   "language": "python",
   "name": "python3"
  },
  "language_info": {
   "codemirror_mode": {
    "name": "ipython",
    "version": 3
   },
   "file_extension": ".py",
   "mimetype": "text/x-python",
   "name": "python",
   "nbconvert_exporter": "python",
   "pygments_lexer": "ipython3",
   "version": "3.12.7"
  }
 },
 "nbformat": 4,
 "nbformat_minor": 2
}
