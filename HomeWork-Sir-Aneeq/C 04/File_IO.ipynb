{
 "cells": [
  {
   "cell_type": "markdown",
   "metadata": {},
   "source": [
    "# FIle I/O (Input / Output)\n",
    "- creating by the mode of write \"w\" and opening file by the giving variables.\n",
    "- adding some text.\n",
    "- close file due to good practice then ctrl enter."
   ]
  },
  {
   "cell_type": "code",
   "execution_count": 1,
   "metadata": {},
   "outputs": [],
   "source": [
    "# systax structure\n",
    "# file = open(\"file_name\", \"mode\") --> mode : w(write), r(read), a(append). \n",
    "# append or write main kuch difference hota hai jo hum dekhaingay agay.\n",
    "\n",
    "file = open(\"faizan\", \"w\") #- creating and opening file.\n",
    "file.write(\"enjoying coding nights with mentors\") #- adding some text.\n",
    "file.close() #- close file due to good practice then ctrl enter.\n"
   ]
  },
  {
   "cell_type": "markdown",
   "metadata": {},
   "source": [
    "# Read mode"
   ]
  },
  {
   "cell_type": "code",
   "execution_count": 3,
   "metadata": {},
   "outputs": [
    {
     "name": "stdout",
     "output_type": "stream",
     "text": [
      "enjoying coding nights with mentors\n"
     ]
    }
   ],
   "source": [
    "file = open(\"faizan\", \"r\") # open file: to open file in read mode by r.\n",
    "print(file.read()) # read mode: to read file by read method and print method to show what inside file but if we dont want to use\n",
    "#print method so we have to give variable to file.read method due to store. when function return something so have to storre return in variable.\n",
    "file.close() # due to best practice."
   ]
  },
  {
   "cell_type": "markdown",
   "metadata": {},
   "source": [
    "# Append some text in created file by using append() method."
   ]
  },
  {
   "cell_type": "code",
   "execution_count": 5,
   "metadata": {},
   "outputs": [],
   "source": [
    "file = open(\"faizan\", \"w\") #- creating and opening file.\n",
    "file.write(\"ramazan coding nights busy due to some extra assignments and projects which will be helpful to increase our skills\") #- adding some text.\n",
    "file.close() #- close file due to good practice then ctrl enter."
   ]
  },
  {
   "cell_type": "code",
   "execution_count": 10,
   "metadata": {},
   "outputs": [],
   "source": [
    "file = open(\"faizan\", \"a\") #- appending some new text by the append mode.\n",
    "file.write(\"\\nenjoying coding nights with mentors\") #- appending some text.\n",
    "file.close() #- close file due to good practice then ctrl enter."
   ]
  },
  {
   "cell_type": "markdown",
   "metadata": {},
   "source": [
    "# advance syntax for created files mode handling"
   ]
  },
  {
   "cell_type": "code",
   "execution_count": 11,
   "metadata": {},
   "outputs": [
    {
     "name": "stdout",
     "output_type": "stream",
     "text": [
      "ramazan coding nights busy due to some extra assignments and projects which will be helpful to increase our skills\n",
      "enjoying coding nights with mentors\n",
      "enjoying coding nights with mentors\n",
      "enjoying coding nights with mentorsenjoying coding nights with mentors enjoying coding nights with mentors\n"
     ]
    }
   ],
   "source": [
    "with open(\"faizan\", \"r\") as file:\n",
    "    print(file.read())"
   ]
  }
 ],
 "metadata": {
  "kernelspec": {
   "display_name": "base",
   "language": "python",
   "name": "python3"
  },
  "language_info": {
   "codemirror_mode": {
    "name": "ipython",
    "version": 3
   },
   "file_extension": ".py",
   "mimetype": "text/x-python",
   "name": "python",
   "nbconvert_exporter": "python",
   "pygments_lexer": "ipython3",
   "version": "3.12.7"
  }
 },
 "nbformat": 4,
 "nbformat_minor": 2
}
