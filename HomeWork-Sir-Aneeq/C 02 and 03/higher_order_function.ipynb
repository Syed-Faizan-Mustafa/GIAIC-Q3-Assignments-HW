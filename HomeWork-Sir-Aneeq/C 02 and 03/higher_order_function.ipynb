{
 "cells": [
  {
   "cell_type": "markdown",
   "metadata": {},
   "source": [
    "# function call the function as a argument\n",
    "- which function contain other function as a argument it is called higher order function."
   ]
  },
  {
   "cell_type": "code",
   "execution_count": 8,
   "metadata": {},
   "outputs": [
    {
     "name": "stdout",
     "output_type": "stream",
     "text": [
      "[1, 4, 9, 16, 25]\n"
     ]
    }
   ],
   "source": [
    "# normally loop and function we use like this \n",
    "number = [1,2,3,4,5]\n",
    "new_list = []\n",
    "def square(n):\n",
    "    return n*n\n",
    "for n in number:\n",
    "    # print(\"number>>\", n)\n",
    "    sqr_num = square(n)\n",
    "    # print(\"sqr_num>>\",sqr_num)\n",
    "    new_list.append(sqr_num)\n",
    "print(new_list)\n"
   ]
  },
  {
   "cell_type": "markdown",
   "metadata": {},
   "source": [
    "# we can do above job with loop and function shortcut with the help of map, filter and reduce method."
   ]
  },
  {
   "cell_type": "code",
   "execution_count": 5,
   "metadata": {},
   "outputs": [
    {
     "name": "stdout",
     "output_type": "stream",
     "text": [
      "[1, 4, 9, 16, 25]\n"
     ]
    }
   ],
   "source": [
    "number = [1,2,3,4,5]\n",
    "def square(n):\n",
    "    return n*n\n",
    "square_list = list(map(square, number))\n",
    "print(square_list)"
   ]
  },
  {
   "cell_type": "markdown",
   "metadata": {},
   "source": [
    "# Filter Method"
   ]
  },
  {
   "cell_type": "code",
   "execution_count": 1,
   "metadata": {},
   "outputs": [
    {
     "name": "stdout",
     "output_type": "stream",
     "text": [
      "[11, 4, 5, 6]\n"
     ]
    }
   ],
   "source": [
    "numbers = [11, 2, 3, 4, 5, 6]  # Changed 'number' to 'numbers' for clarity\n",
    "\n",
    "def filter_condition(n):\n",
    "    return n > 3  # Condition to filter numbers greater than 3\n",
    "\n",
    "filtered_list = list(filter(filter_condition, numbers))  # Changed variable name from 'filter_list' to 'filtered_list'\n",
    "print(filtered_list)"
   ]
  },
  {
   "cell_type": "code",
   "execution_count": 2,
   "metadata": {},
   "outputs": [
    {
     "name": "stdout",
     "output_type": "stream",
     "text": [
      "[True, False, False, True, True, True]\n"
     ]
    }
   ],
   "source": [
    "numbers = [11, 2, 3, 4, 5, 6] \n",
    "\n",
    "def filter_condition(n):\n",
    "    return n > 3  \n",
    "\n",
    "filtered_list = list(map(filter_condition, numbers))\n",
    "print(filtered_list)"
   ]
  }
 ],
 "metadata": {
  "kernelspec": {
   "display_name": "base",
   "language": "python",
   "name": "python3"
  },
  "language_info": {
   "codemirror_mode": {
    "name": "ipython",
    "version": 3
   },
   "file_extension": ".py",
   "mimetype": "text/x-python",
   "name": "python",
   "nbconvert_exporter": "python",
   "pygments_lexer": "ipython3",
   "version": "3.12.7"
  }
 },
 "nbformat": 4,
 "nbformat_minor": 2
}
