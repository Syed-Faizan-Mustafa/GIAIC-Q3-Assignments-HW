{
 "cells": [
  {
   "cell_type": "markdown",
   "metadata": {},
   "source": [
    "# Error Handling"
   ]
  },
  {
   "cell_type": "code",
   "execution_count": 4,
   "metadata": {},
   "outputs": [
    {
     "name": "stdout",
     "output_type": "stream",
     "text": [
      "samose\n",
      "work done\n"
     ]
    }
   ],
   "source": [
    "dishes = [\"samose\", \"chai\", \"burger\", \"pizza\"]\n",
    "print(dishes[0])\n",
    "print(\"work done\")\n"
   ]
  },
  {
   "cell_type": "code",
   "execution_count": 5,
   "metadata": {},
   "outputs": [
    {
     "name": "stdout",
     "output_type": "stream",
     "text": [
      "Dish not found\n",
      "work done\n"
     ]
    }
   ],
   "source": [
    "dishes = [\"samose\", \"chai\", \"burger\", \"pizza\"]\n",
    "try:\n",
    "    print(dishes[4])\n",
    "except:\n",
    "    print(\"Dish not found\")\n",
    "    print(\"work done\")"
   ]
  },
  {
   "cell_type": "markdown",
   "metadata": {},
   "source": [
    "- if we want to print the error message\n",
    "except Exception as e:\n",
    "    print(e)\n",
    "    print(\"work done\")\n"
   ]
  },
  {
   "cell_type": "code",
   "execution_count": 1,
   "metadata": {},
   "outputs": [
    {
     "name": "stdout",
     "output_type": "stream",
     "text": [
      "Error is: list index out of range\n",
      "work done\n"
     ]
    }
   ],
   "source": [
    "dishes = [\"samose\", \"chai\", \"burger\", \"pizza\"]\n",
    "try:\n",
    "    print(dishes[4])\n",
    "except Exception as e:\n",
    "    print(f\"Error is: {e}\")\n",
    "    print(\"work done\")"
   ]
  },
  {
   "cell_type": "markdown",
   "metadata": {},
   "source": [
    "- checking exception is class or not ?"
   ]
  },
  {
   "cell_type": "code",
   "execution_count": 3,
   "metadata": {},
   "outputs": [
    {
     "name": "stdout",
     "output_type": "stream",
     "text": [
      "Exception is: <class 'IndexError'>\n",
      "Error is: list index out of range\n",
      "work done\n"
     ]
    }
   ],
   "source": [
    "dishes = [\"samose\", \"chai\", \"burger\", \"pizza\"]\n",
    "try:\n",
    "    print(dishes[4])\n",
    "except Exception as e:\n",
    "    print(f\"Exception is: {type(e)}\")\n",
    "    print(f\"Error is: {e}\")\n",
    "    print(\"work done\")"
   ]
  },
  {
   "cell_type": "markdown",
   "metadata": {},
   "source": [
    "- specific class for specific error\n",
    "- class name ZeroDivisionError\n",
    "- class name IndexError\n",
    "- class name KeyError\n",
    "- class name ValueError\n",
    "- class name TypeError\n",
    "- class name NameError\n",
    "- class name AttributeError\n"
   ]
  },
  {
   "cell_type": "code",
   "execution_count": 4,
   "metadata": {},
   "outputs": [
    {
     "name": "stdout",
     "output_type": "stream",
     "text": [
      "Error: Division by zero\n",
      "work done\n"
     ]
    }
   ],
   "source": [
    "num = 10\n",
    "try:\n",
    "    print(num/0)\n",
    "except ZeroDivisionError:\n",
    "    print(\"Error: Division by zero\")\n",
    "print(\"work done\")\n"
   ]
  },
  {
   "cell_type": "code",
   "execution_count": 8,
   "metadata": {},
   "outputs": [
    {
     "ename": "IndexError",
     "evalue": "list index out of range",
     "output_type": "error",
     "traceback": [
      "\u001b[31m---------------------------------------------------------------------------\u001b[39m",
      "\u001b[31mIndexError\u001b[39m                                Traceback (most recent call last)",
      "\u001b[36mCell\u001b[39m\u001b[36m \u001b[39m\u001b[32mIn[8]\u001b[39m\u001b[32m, line 3\u001b[39m\n\u001b[32m      1\u001b[39m dishes = [\u001b[33m\"\u001b[39m\u001b[33msamose\u001b[39m\u001b[33m\"\u001b[39m, \u001b[33m\"\u001b[39m\u001b[33mchai\u001b[39m\u001b[33m\"\u001b[39m, \u001b[33m\"\u001b[39m\u001b[33mburger\u001b[39m\u001b[33m\"\u001b[39m, \u001b[33m\"\u001b[39m\u001b[33mpizza\u001b[39m\u001b[33m\"\u001b[39m]\n\u001b[32m      2\u001b[39m \u001b[38;5;28;01mtry\u001b[39;00m:\n\u001b[32m----> \u001b[39m\u001b[32m3\u001b[39m     \u001b[38;5;28mprint\u001b[39m(\u001b[43mdishes\u001b[49m\u001b[43m[\u001b[49m\u001b[32;43m4\u001b[39;49m\u001b[43m]\u001b[49m)\n\u001b[32m      4\u001b[39m \u001b[38;5;28;01mexcept\u001b[39;00m \u001b[38;5;167;01mZeroDivisionError\u001b[39;00m:\n\u001b[32m      5\u001b[39m     \u001b[38;5;28mprint\u001b[39m(\u001b[33m\"\u001b[39m\u001b[33mGot the error\u001b[39m\u001b[33m\"\u001b[39m)\n",
      "\u001b[31mIndexError\u001b[39m: list index out of range"
     ]
    }
   ],
   "source": [
    "dishes = [\"samose\", \"chai\", \"burger\", \"pizza\"]\n",
    "try:\n",
    "    print(dishes[4])\n",
    "except ZeroDivisionError:\n",
    "    print(\"Got the error\")\n",
    "    print(\"work done\")"
   ]
  },
  {
   "cell_type": "code",
   "execution_count": 9,
   "metadata": {},
   "outputs": [
    {
     "name": "stdout",
     "output_type": "stream",
     "text": [
      "some other error\n",
      "work done\n"
     ]
    }
   ],
   "source": [
    "# hum ek se ziada except use kar sakte hain, yahan hum except or zero division error\n",
    "# dono use kar sakte hain.\n",
    "dishes = [\"samose\", \"chai\", \"burger\", \"pizza\"]\n",
    "try:\n",
    "    print(dishes[4])\n",
    "except ZeroDivisionError:\n",
    "    print(\"Got the error\")\n",
    "except IndexError:\n",
    "    print(\"some other error\")\n",
    "    print(\"work done\")\n"
   ]
  },
  {
   "cell_type": "code",
   "execution_count": 1,
   "metadata": {},
   "outputs": [
    {
     "name": "stdout",
     "output_type": "stream",
     "text": [
      "some other error\n",
      "work done\n",
      "ye tuo hoga\n"
     ]
    }
   ],
   "source": [
    "dishes = [\"samose\", \"chai\", \"burger\", \"pizza\"]\n",
    "try:\n",
    "    print(dishes[4])\n",
    "except ZeroDivisionError:\n",
    "    print(\"Got the error\")\n",
    "except IndexError:\n",
    "    print(\"some other error\")\n",
    "    print(\"work done\")\n",
    "finally:\n",
    "    print(\"ye tuo hoga\")"
   ]
  }
 ],
 "metadata": {
  "kernelspec": {
   "display_name": "Python 3",
   "language": "python",
   "name": "python3"
  },
  "language_info": {
   "codemirror_mode": {
    "name": "ipython",
    "version": 3
   },
   "file_extension": ".py",
   "mimetype": "text/x-python",
   "name": "python",
   "nbconvert_exporter": "python",
   "pygments_lexer": "ipython3",
   "version": "3.13.2"
  }
 },
 "nbformat": 4,
 "nbformat_minor": 2
}
