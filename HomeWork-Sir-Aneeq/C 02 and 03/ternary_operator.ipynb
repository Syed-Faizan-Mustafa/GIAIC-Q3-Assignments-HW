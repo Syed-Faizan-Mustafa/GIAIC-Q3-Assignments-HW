{
 "cells": [
  {
   "cell_type": "markdown",
   "metadata": {},
   "source": [
    "# Ternary Operator / Short Hand\n",
    "    If and Else Statement.\n",
    "- in generally we use if else like this :\n",
    "- if (condition):\n",
    "    - if statment\n",
    "- else:\n",
    "    - else statement\n",
    "\n",
    "but if we want a single line statment without elif so we can use ternary operator:\n",
    "- ifstatment ifcondition else elsestatment\n"
   ]
  },
  {
   "cell_type": "code",
   "execution_count": 2,
   "metadata": {},
   "outputs": [
    {
     "name": "stdout",
     "output_type": "stream",
     "text": [
      "School ki Chutti\n",
      "school ki chutti\n"
     ]
    }
   ],
   "source": [
    "isRaining = True \n",
    "if isRaining:\n",
    "    print(\"School ki Chutti\")\n",
    "else:\n",
    "    print(\"chal beta school\")\n",
    "\n",
    "# ternary operator\n",
    "print(\"school ki chutti\") if isRaining else print(\"chalo beta school\")\n",
    "# is ka matlab kaam dono same kar rahay hain bas syntax different hai \n",
    "# lekin sirf ek statment k liye hum ternary operator ka use kartay hain.\n"
   ]
  },
  {
   "cell_type": "code",
   "execution_count": 4,
   "metadata": {},
   "outputs": [
    {
     "name": "stdout",
     "output_type": "stream",
     "text": [
      "10\n"
     ]
    }
   ],
   "source": [
    "# another example with number\n",
    "num = 5\n",
    "num2= 10 if num <= 5 else 20 \n",
    "print(num2)\n",
    "# q k condition true thi otherwise else chalta q k humne kaha k agar num ki value 5 se kum ya barabar hai tuo if chalado\n",
    "# warna else chalado,yahan condition true this tuo if chal gaya. \n",
    "# Humne yahan num2 ki value ko thora alag tareeqay se ki hai matlab is ki value conditionally set hoe hai."
   ]
  }
 ],
 "metadata": {
  "kernelspec": {
   "display_name": "base",
   "language": "python",
   "name": "python3"
  },
  "language_info": {
   "codemirror_mode": {
    "name": "ipython",
    "version": 3
   },
   "file_extension": ".py",
   "mimetype": "text/x-python",
   "name": "python",
   "nbconvert_exporter": "python",
   "pygments_lexer": "ipython3",
   "version": "3.12.7"
  }
 },
 "nbformat": 4,
 "nbformat_minor": 2
}
