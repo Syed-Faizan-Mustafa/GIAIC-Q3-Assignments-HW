{
 "cells": [
  {
   "cell_type": "code",
   "execution_count": 24,
   "metadata": {},
   "outputs": [
    {
     "name": "stdout",
     "output_type": "stream",
     "text": [
      "you must play with pro player only\n"
     ]
    }
   ],
   "source": [
    "# if then condition \n",
    "age = 36\n",
    "if age <18:\n",
    "    print(\"you are not eligible to play snocker\")\n",
    "elif age >=18 and age<=24:\n",
    "    print(\"you are eligible to play snocker\")\n",
    "elif age >=25:\n",
    "    print(\"you must play with pro player only\")\n",
    "else:\n",
    "    print(\"you must play with pro players only\")\n",
    "\n"
   ]
  },
  {
   "cell_type": "code",
   "execution_count": null,
   "metadata": {},
   "outputs": [],
   "source": []
  }
 ],
 "metadata": {
  "kernelspec": {
   "display_name": "Python 3",
   "language": "python",
   "name": "python3"
  },
  "language_info": {
   "codemirror_mode": {
    "name": "ipython",
    "version": 3
   },
   "file_extension": ".py",
   "mimetype": "text/x-python",
   "name": "python",
   "nbconvert_exporter": "python",
   "pygments_lexer": "ipython3",
   "version": "3.13.2"
  }
 },
 "nbformat": 4,
 "nbformat_minor": 2
}
