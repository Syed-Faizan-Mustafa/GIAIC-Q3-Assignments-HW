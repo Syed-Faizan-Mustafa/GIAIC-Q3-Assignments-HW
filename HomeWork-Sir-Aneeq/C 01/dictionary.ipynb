{
 "cells": [
  {
   "cell_type": "markdown",
   "metadata": {},
   "source": [
    "# Dictionary\n",
    "01. update \n",
    "02. pop\n",
    "03. popitem\n",
    "04. get\n",
    "05. keys\n",
    "06. values\n",
    "07. items\n",
    "08. del"
   ]
  },
  {
   "cell_type": "code",
   "execution_count": 1,
   "metadata": {},
   "outputs": [
    {
     "name": "stdout",
     "output_type": "stream",
     "text": [
      "{'name': 'Faizan', 'age': 35}\n"
     ]
    }
   ],
   "source": [
    "# Dictionary and object are the same thing but in JS we we put key pair value without string it is just in JSON format\n",
    "# but in python (dictionary) key pair values are in string or if we use number in value so it will not in string form.\n",
    "students_data = {\"name\": \"Faizan\", \"age\": 35}\n",
    "print(students_data)\n"
   ]
  },
  {
   "cell_type": "code",
   "execution_count": 3,
   "metadata": {},
   "outputs": [
    {
     "name": "stdout",
     "output_type": "stream",
     "text": [
      "{'name': 'Faizan', 'age': 35}\n",
      "updated student data {'name': 'Faizan', 'age': 35, 'roll no.': 1234}\n"
     ]
    }
   ],
   "source": [
    "# update mathod\n",
    "# update method will take a dictionary in argument.\n",
    "students_data = {\"name\": \"Faizan\", \"age\": 35}\n",
    "print(students_data)\n",
    "students_data.update({\"roll no.\": 1234})\n",
    "print(\"updated student data\", students_data)"
   ]
  },
  {
   "cell_type": "code",
   "execution_count": 6,
   "metadata": {},
   "outputs": [
    {
     "name": "stdout",
     "output_type": "stream",
     "text": [
      "{'name': 'Faizan'}\n"
     ]
    }
   ],
   "source": [
    "# pop method\n",
    "# generally pop will remove last element from the list but here is different method, here is we put the element name in\n",
    "# parentheses to pop.\n",
    "students_data = {\"name\": \"Faizan\", \"age\": 35}\n",
    "students_data.pop(\"age\")\n",
    "print(students_data)\n"
   ]
  },
  {
   "cell_type": "code",
   "execution_count": 8,
   "metadata": {},
   "outputs": [
    {
     "name": "stdout",
     "output_type": "stream",
     "text": [
      "pop method>>> 35\n"
     ]
    }
   ],
   "source": [
    "# but pop is return so:\n",
    "students_data = {\"name\": \"Faizan\", \"age\": 35}\n",
    "print (\"pop method>>>\", students_data.pop(\"age\"))"
   ]
  },
  {
   "cell_type": "code",
   "execution_count": 10,
   "metadata": {},
   "outputs": [
    {
     "name": "stdout",
     "output_type": "stream",
     "text": [
      "pop method>>> 987\n",
      "popitem method>>> ('age', 35)\n"
     ]
    }
   ],
   "source": [
    "#popitem method\n",
    "# pop item does remove the last key and value form the dictionary and return also but in tuple format.\n",
    "# tuple always in parentheses, it is like a list but it is immutable (can not be changed)\n",
    "students_data = {\"name\": \"Faizan\", \"age\": 35, \"roll number\": 987}\n",
    "print (\"pop method>>>\", students_data.pop(\"roll number\"))\n",
    "print (\"popitem method>>>\", students_data.popitem())\n"
   ]
  },
  {
   "cell_type": "code",
   "execution_count": 11,
   "metadata": {},
   "outputs": [
    {
     "name": "stdout",
     "output_type": "stream",
     "text": [
      "keys dict_keys(['name', 'age', 'roll number'])\n",
      "values dict_values(['Faizan', 35, 987])\n",
      "items dict_items([('name', 'Faizan'), ('age', 35), ('roll number', 987)])\n"
     ]
    }
   ],
   "source": [
    "# keys, values, items method.\n",
    "# all are return methods\n",
    "\n",
    "students_data = {\"name\": \"Faizan\", \"age\": 35, \"roll number\": 987}\n",
    "print(\"keys\", students_data.keys()) # it will shows all keys but it will shows result in list form.\n",
    "print(\"values\", students_data.values()) # it will shows all values but it will shows result in list form.\n",
    "print(\"items\", students_data.items()) # it will shows all items (both: keys and values) but it will shows result in list of tuple form.\n",
    "# because sometime we need loop in value or keys or items so it will help us to find keys values and items to run loop."
   ]
  },
  {
   "cell_type": "code",
   "execution_count": 14,
   "metadata": {},
   "outputs": [
    {
     "name": "stdout",
     "output_type": "stream",
     "text": [
      "item key: name and value: Faizan\n",
      "item key: age and value: 35\n",
      "item key: roll number and value: 987\n"
     ]
    }
   ],
   "source": [
    "#example for use in loop:\n",
    "#([('name', 'Faizan'), ('age', 35), ('roll number', 987)]) it will be return this.\n",
    "students_data = {\"name\": \"Faizan\", \"age\": 35, \"roll number\": 987}\n",
    "for k, v in students_data.items():\n",
    "    print(f\"item key: {k} and value: {v}\")\n",
    "\n"
   ]
  },
  {
   "cell_type": "code",
   "execution_count": 20,
   "metadata": {},
   "outputs": [
    {
     "name": "stdout",
     "output_type": "stream",
     "text": [
      "{'age': 35, 'roll number': 987}\n"
     ]
    }
   ],
   "source": [
    "# del method\n",
    "# del method is different from other method, we have to call item in long brackets with in quotation mark.\n",
    "students_data = {\"name\": \"Faizan\", \"age\": 35, \"roll number\": 987}\n",
    "del students_data[\"name\"] # long brakcets and quotation mark as per we set in dictionary with quotation mark.\n",
    "print(students_data)"
   ]
  },
  {
   "cell_type": "code",
   "execution_count": 23,
   "metadata": {},
   "outputs": [
    {
     "name": "stdout",
     "output_type": "stream",
     "text": [
      "a name\n",
      "b Faizan\n",
      "a age\n",
      "b 35\n",
      "a roll number\n",
      "b 987\n"
     ]
    }
   ],
   "source": [
    "# concept of destructuring\n",
    "# here we are destructuring the entire dictionary where we want our items keys and value shows in other variables.\n",
    "students_data = {\"name\": \"Faizan\", \"age\": 35, \"roll number\": 987}\n",
    "for tup in students_data.items():\n",
    "    a,b= tup\n",
    "    print(\"a\", a)\n",
    "    print(\"b\", b)\n"
   ]
  }
 ],
 "metadata": {
  "kernelspec": {
   "display_name": "Python 3",
   "language": "python",
   "name": "python3"
  },
  "language_info": {
   "codemirror_mode": {
    "name": "ipython",
    "version": 3
   },
   "file_extension": ".py",
   "mimetype": "text/x-python",
   "name": "python",
   "nbconvert_exporter": "python",
   "pygments_lexer": "ipython3",
   "version": "3.13.2"
  }
 },
 "nbformat": 4,
 "nbformat_minor": 2
}
