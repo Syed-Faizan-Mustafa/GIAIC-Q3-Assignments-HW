{
 "cells": [
  {
   "cell_type": "markdown",
   "metadata": {},
   "source": [
    "# List Methods\n",
    " 1. append\n",
    " 2. copy\n",
    " 3. count\n",
    " 4. insert\n",
    " 5. reverse \n",
    " 6. remove\n",
    " 7. sort\n",
    " 8. pop\n",
    " 9. extend\n",
    " 10. index\n",
    " 11. clear\n"
   ]
  },
  {
   "cell_type": "code",
   "execution_count": 2,
   "metadata": {},
   "outputs": [
    {
     "name": "stdout",
     "output_type": "stream",
     "text": [
      "['jan', ' feb', ' mar', ' apr', ' may', ' jun', 'july']\n",
      "['jan', 'sept', ' feb', ' mar', ' apr', ' may', ' jun', 'july']\n"
     ]
    }
   ],
   "source": [
    "#appen and insert method\n",
    "list=['jan', ' feb', ' mar', ' apr', ' may', ' jun']\n",
    "# list methods always update existing list, do not return any new list.\n",
    "list.append(\"july\") # add at the last of the index\n",
    "print(list)\n",
    "list.insert(1,\"sept\") # insert at the specific index number(1st argument is index number and 2nd is what you want to add)\n",
    "print(list)\n",
    "# both method do not return any thing but will update list only.\n",
    "\n"
   ]
  },
  {
   "cell_type": "code",
   "execution_count": 4,
   "metadata": {},
   "outputs": [
    {
     "name": "stdout",
     "output_type": "stream",
     "text": [
      "append ['jan', ' feb', ' mar', ' apr', ' may', ' jun', 'july']\n",
      "insert ['dec', 'jan', ' feb', ' mar', ' apr', ' may', ' jun', 'july']\n"
     ]
    }
   ],
   "source": [
    "list=['jan', ' feb', ' mar', ' apr', ' may', ' jun']\n",
    "list.append(\"july\")\n",
    "print(\"append\", list)\n",
    "list.insert(0, \"dec\")\n",
    "print(\"insert\", list)\n"
   ]
  },
  {
   "cell_type": "code",
   "execution_count": 6,
   "metadata": {},
   "outputs": [
    {
     "name": "stdout",
     "output_type": "stream",
     "text": [
      "pop  jun\n"
     ]
    }
   ],
   "source": [
    "# pop method remove last item from the list but it will return also in variable.\n",
    "list=['jan', ' feb', ' mar', ' apr', ' may', ' jun']\n",
    "remove_item = list.pop()\n",
    "print(\"pop\", remove_item)"
   ]
  },
  {
   "cell_type": "code",
   "execution_count": 7,
   "metadata": {},
   "outputs": [
    {
     "name": "stdout",
     "output_type": "stream",
     "text": [
      "new list>>>> ['jan', ' feb', ' mar', ' apr', ' may', ' jun', 'jul', 'aug', 'sept', 'oct', 'nov', 'dec']\n",
      "new list>>> ['jul', 'aug', 'sept', 'oct', 'nov', 'dec']\n"
     ]
    }
   ],
   "source": [
    "# extend method\n",
    "list1 = ['jan', ' feb', ' mar', ' apr', ' may', ' jun']\n",
    "list2 = ['jul', 'aug', 'sept', 'oct', 'nov', 'dec']\n",
    "list1.extend(list2) # it will merge list 1 into list 2 and update list 1 \n",
    "print(\"new list>>>>\",list1) #merged list\n",
    "print(\"new list>>>\", list2) #remain same "
   ]
  },
  {
   "cell_type": "code",
   "execution_count": 8,
   "metadata": {},
   "outputs": [
    {
     "name": "stdout",
     "output_type": "stream",
     "text": [
      "generate new list ['jan', ' feb', ' mar', ' apr', ' may', ' jun', 'jul', 'aug', 'sept', 'oct', 'nov', 'dec']\n"
     ]
    }
   ],
   "source": [
    "list1 = ['jan', ' feb', ' mar', ' apr', ' may', ' jun']\n",
    "list2 = ['jul', 'aug', 'sept', 'oct', 'nov', 'dec']\n",
    "list3 = list1+list2\n",
    " \n",
    "\n",
    "print(\"generate new list\", list3) "
   ]
  },
  {
   "cell_type": "code",
   "execution_count": 16,
   "metadata": {},
   "outputs": [
    {
     "name": "stdout",
     "output_type": "stream",
     "text": [
      "sort list in ascending order [0, 1, 2, 3, 5, 8, 9]\n"
     ]
    }
   ],
   "source": [
    "# sort method \n",
    "# it will sort in ascending order, it will not return anything.\n",
    "list = [5,8,9,0,1,2,3]\n",
    "list.sort()\n",
    "print(\"sort list in ascending order\", list)"
   ]
  },
  {
   "cell_type": "code",
   "execution_count": 13,
   "metadata": {},
   "outputs": [
    {
     "name": "stdout",
     "output_type": "stream",
     "text": [
      "sort list in ascending order None\n"
     ]
    }
   ],
   "source": [
    "list = [5,8,9,0,1,2,3]\n",
    "\n",
    "print(\"sort list\", list.sort()) \n",
    "# look it is not returning anything."
   ]
  },
  {
   "cell_type": "code",
   "execution_count": 14,
   "metadata": {},
   "outputs": [
    {
     "name": "stdout",
     "output_type": "stream",
     "text": [
      "sort list in descending order [9, 8, 5, 3, 2, 1, 0]\n"
     ]
    }
   ],
   "source": [
    "# if i wanted to make this list from ascending order into descending order.\n",
    "list = [5,8,9,0,1,2,3]\n",
    "list.sort(reverse=True)\n",
    "print(\"sort list in descending order\", list)"
   ]
  },
  {
   "cell_type": "code",
   "execution_count": 17,
   "metadata": {},
   "outputs": [
    {
     "name": "stdout",
     "output_type": "stream",
     "text": [
      "reverse list [3, 2, 1, 0, 9, 8, 5]\n"
     ]
    }
   ],
   "source": [
    "# we can do descending order with reverse method but it will not follow sort behavior sometime.\n",
    "# this method just reverse the list from end to end.\n",
    "list = [5,8,9,0,1,2,3]\n",
    "list.reverse()\n",
    "print(\"reverse list\", list)"
   ]
  },
  {
   "cell_type": "code",
   "execution_count": 24,
   "metadata": {},
   "outputs": [
    {
     "name": "stdout",
     "output_type": "stream",
     "text": [
      "put the specific value in the parentheses [5, 8, 0, 1, 2, 3]\n",
      "put the specific value in the parentheses ['jan', ' mar', ' apr', ' may', ' jun']\n"
     ]
    }
   ],
   "source": [
    "# remove method\n",
    "# it will remove the value from the list\n",
    "# it will not work as per index it will work only put values in parentheses.\n",
    "list1 = [5,8,9,0,1,2,3]\n",
    "list2 = ['jan', ' feb', ' mar', ' apr', ' may', ' jun']\n",
    "\n",
    "list1.remove(9)\n",
    "print(\"put the specific value in the parentheses\", list1)\n",
    "list2.remove(' feb') # note: there is space in quotation mark so we have to make sure value must be same when we want to remove item from the list.\n",
    "print(\"put the specific value in the parentheses\", list2)"
   ]
  },
  {
   "cell_type": "code",
   "execution_count": 25,
   "metadata": {},
   "outputs": [
    {
     "name": "stdout",
     "output_type": "stream",
     "text": [
      "copied [5, 8, 9, 0, 1, 2, 3] [5, 8, 9, 0, 1, 2, 3]\n"
     ]
    }
   ],
   "source": [
    "# copy method\n",
    "# it will copy the list but when we create copy so we have to create a variable to save new copied list.\n",
    "list1 = [5,8,9,0,1,2,3]\n",
    "list2 = list1.copy()\n",
    "print(\"copied\", list1, list2)\n",
    "# list2.remove(' feb') # note: there is space in quotation mark so we have to make sure value must be same when we want to remove item from the list.\n",
    "# print(\"put the specific value in the parentheses\", list2)"
   ]
  },
  {
   "cell_type": "code",
   "execution_count": 29,
   "metadata": {},
   "outputs": [
    {
     "name": "stdout",
     "output_type": "stream",
     "text": [
      "list slicing method apllied [5, 9, 1, 3]\n"
     ]
    }
   ],
   "source": [
    "# slice method\n",
    "list = [5,8,9,0,1,2,3]\n",
    "# slicing method = list[start:end:step] [start (inclusive)] [end(exclusive)]\n",
    "# it will ended at index 6 from end is exclusive. or 0 index tuo lega he lega q k start inclusive hai or humne slicing 0 se he start ki hai.\n",
    "# step means har dosra element ye lega list main agar main 3 step karta tuo har teesra element leta ye list se or ek new list generate kardeta.\n",
    "# yahan new list hai list 2\n",
    "# matlab copy karo or 2 step agay barho then phir se copy karo or 2 step agay barho yahan tak k list khatam hojaye tab tak ye process chalta rehayga.\n",
    "list2 = list[0:7:2]\n",
    "print(\"list slicing method apllied\",list2)\n",
    "\n"
   ]
  }
 ],
 "metadata": {
  "kernelspec": {
   "display_name": "Python 3",
   "language": "python",
   "name": "python3"
  },
  "language_info": {
   "codemirror_mode": {
    "name": "ipython",
    "version": 3
   },
   "file_extension": ".py",
   "mimetype": "text/x-python",
   "name": "python",
   "nbconvert_exporter": "python",
   "pygments_lexer": "ipython3",
   "version": "3.13.2"
  }
 },
 "nbformat": 4,
 "nbformat_minor": 2
}
