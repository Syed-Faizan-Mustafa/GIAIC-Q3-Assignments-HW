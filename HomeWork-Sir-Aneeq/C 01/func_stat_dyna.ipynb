{
 "cells": [
  {
   "cell_type": "markdown",
   "metadata": {},
   "source": [
    "Static Function"
   ]
  },
  {
   "cell_type": "code",
   "execution_count": 2,
   "metadata": {},
   "outputs": [
    {
     "name": "stdout",
     "output_type": "stream",
     "text": [
      "Hello Faizan! How are you?\n"
     ]
    }
   ],
   "source": [
    "def greet():\n",
    "    print(\"Hello Faizan! How are you?\")\n",
    "greet()"
   ]
  },
  {
   "cell_type": "markdown",
   "metadata": {},
   "source": [
    "Dynamic Function"
   ]
  },
  {
   "cell_type": "code",
   "execution_count": 4,
   "metadata": {},
   "outputs": [
    {
     "name": "stdout",
     "output_type": "stream",
     "text": [
      "Hello world from function\n",
      "Hello World\n"
     ]
    }
   ],
   "source": [
    "name = \"Faizan\"\n",
    "def greet (name):\n",
    "    print(f\"Hello world from function\")\n",
    "    print(\"Hello World\")\n",
    "greet(name)\n",
    "    "
   ]
  },
  {
   "cell_type": "code",
   "execution_count": 7,
   "metadata": {},
   "outputs": [
    {
     "name": "stdout",
     "output_type": "stream",
     "text": [
      "Hello world from Okasha\n",
      "return from function\n"
     ]
    }
   ],
   "source": [
    "\n",
    "def greet (name):\n",
    "    print(f\"Hello world from {name}\")\n",
    "    return \"return from function\"\n",
    "return_value = greet(\"Okasha\")\n",
    "print(return_value)\n",
    "\n",
    "\n",
    "    "
   ]
  },
  {
   "cell_type": "code",
   "execution_count": 8,
   "metadata": {},
   "outputs": [
    {
     "name": "stdout",
     "output_type": "stream",
     "text": [
      "Hello world from Okasha\n"
     ]
    },
    {
     "data": {
      "text/plain": [
       "'return from function'"
      ]
     },
     "execution_count": 8,
     "metadata": {},
     "output_type": "execute_result"
    }
   ],
   "source": [
    "def greet (name):\n",
    "    print(f\"Hello world from {name}\")\n",
    "    return \"return from function\"\n",
    "greet(\"Okasha\")\n"
   ]
  }
 ],
 "metadata": {
  "kernelspec": {
   "display_name": "Python 3",
   "language": "python",
   "name": "python3"
  },
  "language_info": {
   "codemirror_mode": {
    "name": "ipython",
    "version": 3
   },
   "file_extension": ".py",
   "mimetype": "text/x-python",
   "name": "python",
   "nbconvert_exporter": "python",
   "pygments_lexer": "ipython3",
   "version": "3.13.2"
  }
 },
 "nbformat": 4,
 "nbformat_minor": 2
}
