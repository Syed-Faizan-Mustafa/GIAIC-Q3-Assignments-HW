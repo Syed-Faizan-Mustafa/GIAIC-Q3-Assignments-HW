{
 "cells": [
  {
   "cell_type": "markdown",
   "metadata": {},
   "source": [
    "# Set\n",
    "1. add()\n",
    "2. clear()\n",
    "3. pop()\n",
    "4. union()\n",
    "5. issuperset()\n",
    "6. issubset()\n",
    "7. intersection()\n",
    "8. difference()\n",
    "9. isdiscard()\n",
    "10. setdiscard()\n",
    "11. copy()"
   ]
  },
  {
   "cell_type": "code",
   "execution_count": 6,
   "metadata": {},
   "outputs": [
    {
     "name": "stdout",
     "output_type": "stream",
     "text": [
      "{2, 4, 6, 8, 10}\n",
      "{False, 19, 5.9, 'Faizan'}\n",
      "<class 'dict'>\n",
      "<class 'set'>\n",
      "False\n",
      "19\n",
      "5.9\n",
      "Faizan\n"
     ]
    }
   ],
   "source": [
    "# add()\n",
    "# sets are unordered collection of data type and sets are unchangeable. once position defined then it will not be changed.\n",
    "# we can use different types of data types in sets.\n",
    "# we can not call items by index number because it is unordered collection.\n",
    "#  if you do not want to show repeat entries so it works well defined by sets()\n",
    "# agar ek company chahti hai k greeting gifts employe ko diye jaen or un ko jannad ho k kis kis ko gift milchuka hai\n",
    "# or woh agar sab k naam se taly karengay tuo is main buhut se logo k naam same hongay tuo obviosly woh employe id ki\n",
    "# ki madad se is kaam ko anjaan dengay.\n",
    "# dictionary and sets dono main curly brackets ka istamaal kartay hain agar hum set ko empty curly brackets main print \n",
    "# karwaengay or us ki type check karengay tuo us k i type dictionary ayegi q k empty curly brackets dene se empty dictionary banti hai\n",
    "#empty set nahi banta.\n",
    "employe_id = {2,4,6,8,10,2,10,6}\n",
    "print(employe_id)\n",
    "info = {\"Faizan\", 19, False, 5.9, 19 }\n",
    "print(info)\n",
    "faizan= {}\n",
    "print(type (faizan))\n",
    "# empty set bananay k liye hamain kuch is tarha syntax likhna parayga:\n",
    "faizan= set()\n",
    "print(type(faizan))\n",
    "# how to access sets\n",
    "# 1st by for loop and \n",
    "for value in info:\n",
    "    print(value)"
   ]
  },
  {
   "cell_type": "code",
   "execution_count": 2,
   "metadata": {},
   "outputs": [
    {
     "name": "stdout",
     "output_type": "stream",
     "text": [
      "{1, 2, 3, 4, 5, 6, 7, 10}\n",
      "{1, 2, 5, 6} {10, 3, 4, 7}\n"
     ]
    }
   ],
   "source": [
    "# Union(method)\n",
    "# main chahta hn k jo element s1 main hai woh mujhey s2 main mil jaen. yaani dono sets k element saath ajaen lekin is se\n",
    "# hamare dono sets k values main koi change nahi ayega\n",
    "s1 = {1,2,5,6}\n",
    "s2 = {3,4,7,10}\n",
    "print(s1.union(s2))\n",
    "print(s1, s2)"
   ]
  },
  {
   "cell_type": "code",
   "execution_count": 3,
   "metadata": {},
   "outputs": [
    {
     "name": "stdout",
     "output_type": "stream",
     "text": [
      "{1, 2, 3, 4, 5, 6, 7, 10}\n"
     ]
    }
   ],
   "source": [
    "# union update(method)\n",
    "# lekin agar hum chahtay hain k mera s1 ya s2 update hojaye tuo us k liye hum update(method) ka use karengay.\n",
    "s1 = {1,2,5,6}\n",
    "s2 = {3,4,7,10}\n",
    "s1.update(s2)\n",
    "print(s1)"
   ]
  },
  {
   "cell_type": "code",
   "execution_count": 5,
   "metadata": {},
   "outputs": [
    {
     "name": "stdout",
     "output_type": "stream",
     "text": [
      "{3, 5, 6}\n"
     ]
    }
   ],
   "source": [
    "# intersection (method)\n",
    "# intersection ka matlab hai woh value jo dono sets main hai.\n",
    "s1 = {1,2,5,6,3}\n",
    "s2 = {3,4,7,6,5,10}\n",
    "s3=s1.intersection(s2)\n",
    "print(s3)"
   ]
  },
  {
   "cell_type": "code",
   "execution_count": 7,
   "metadata": {},
   "outputs": [
    {
     "name": "stdout",
     "output_type": "stream",
     "text": [
      "{3, 5, 6}\n"
     ]
    }
   ],
   "source": [
    "# intersection update(method)\n",
    "# agar main chahta hn k jo value s1 main or s2 main hain woh mujhey ek saath s1 main chahiye\n",
    "# with intersection tuo is kaam ko hum update ki help se karengay.\n",
    "s1 = {1,2,5,6,3}\n",
    "s2 = {3,4,7,6,5,10}\n",
    "s1.intersection_update(s2)\n",
    "print(s1)\n"
   ]
  },
  {
   "cell_type": "code",
   "execution_count": 8,
   "metadata": {},
   "outputs": [
    {
     "name": "stdout",
     "output_type": "stream",
     "text": [
      "{'dehli', 'seoul', 'berlin', 'kabul'}\n"
     ]
    }
   ],
   "source": [
    "# symmetric_difference and symmetric_difference_update(): A union b - a intersetion b ye hai formula symmetric difference ka.\n",
    "# yaani jo value common nahi hai woh result hoga symmetric difference.\n",
    "cities1 = {\"berlin\", \"madrid\", \"dehli\", \"tokyo\"}\n",
    "cities2 = {\"seoul\", \"kabul\", \"madrid\", \"tokyo\"}\n",
    "cities3= cities1.symmetric_difference(cities2)\n",
    "print(cities3)"
   ]
  },
  {
   "cell_type": "code",
   "execution_count": 9,
   "metadata": {},
   "outputs": [
    {
     "name": "stdout",
     "output_type": "stream",
     "text": [
      "{'berlin', 'dehli'}\n"
     ]
    }
   ],
   "source": [
    "# difference and difference_update()\n",
    "# woh element jo sirf ek set main hota hai.\n",
    "cities1 = {\"berlin\", \"madrid\", \"dehli\", \"tokyo\"}\n",
    "cities2 = {\"seoul\", \"kabul\", \"madrid\", \"tokyo\"}\n",
    "cities3= cities1.difference(cities2)\n",
    "print(cities3)"
   ]
  },
  {
   "cell_type": "markdown",
   "metadata": {},
   "source": [
    "# there are several in-built methods used for the manipulation of sets. They are explained below\n"
   ]
  },
  {
   "cell_type": "code",
   "execution_count": 12,
   "metadata": {},
   "outputs": [
    {
     "name": "stdout",
     "output_type": "stream",
     "text": [
      "False\n",
      "True\n"
     ]
    }
   ],
   "source": [
    "# isdisjoint(method)\n",
    "# disjoint woh sets hotay hain jin ka ek dosray se koi matlab nahi hota, koi intersection un main nahi hota hai.\n",
    "# agar print main result false hai tuo matlab set joint hai or agar true hai tuo disjoint hai.\n",
    "\n",
    "# joint set\n",
    "cities1 = {\"berlin\", \"madrid\", \"dehli\", \"tokyo\"}\n",
    "cities2 = {\"seoul\", \"kabul\", \"madrid\", \"tokyo\"}\n",
    "print(cities1.isdisjoint(cities2))\n",
    "\n",
    "# disjoint set\n",
    "cities1 = {\"berlin\", \"madrid2\", \"dehli\", \"tokyo\"}\n",
    "cities2 = {\"seoul\", \"kabul\", \"madrid\", \"tokyo2\"}\n",
    "\n",
    "print(cities1.isdisjoint(cities2))"
   ]
  },
  {
   "cell_type": "markdown",
   "metadata": {},
   "source": [
    "# isSuperSet\n",
    "1. kia cities1 main cities 2 k elements hain? agar hain tuo superset hai cities 1 cities 2 ka.\n",
    "2. cities2 sub-set hai cities 1 ka.\n",
    "3. koi bhi ek element kum ho ya ek value bhi ziada ho tuo condition kabhi true nahi ayegy. lekin agar cities 1 main element ziada ho tuo koi issue nahi hai contion true hojayegy.\n",
    "4. cities 1 cities 3 ka super-set hai or cities 3 cities 1 ka sub-set hai."
   ]
  },
  {
   "cell_type": "code",
   "execution_count": 18,
   "metadata": {},
   "outputs": [
    {
     "name": "stdout",
     "output_type": "stream",
     "text": [
      "False\n",
      "True\n",
      "False\n"
     ]
    }
   ],
   "source": [
    "cities1 = {\"berlin\", \"madrid\", \"dehli\", \"tokyo\"}\n",
    "cities2 = {\"seoul\", \"kabul\", \"madrid\", \"tokyo\"}\n",
    "print(cities1.issuperset(cities2))\n",
    "cities3 = {\"berlin\", \"madrid\", \"dehli\", \"tokyo\"}\n",
    "print(cities1.issuperset(cities3))\n",
    "cities4 = {\"dehli\", \"tokyo\", \"kabul\"}\n",
    "print(cities1.issuperset(cities4))"
   ]
  },
  {
   "cell_type": "markdown",
   "metadata": {},
   "source": [
    "# sub-set\n",
    "1. yahan humne ye bhi check karlia k kia cities3 subset hai cities1 ka?"
   ]
  },
  {
   "cell_type": "code",
   "execution_count": 20,
   "metadata": {},
   "outputs": [
    {
     "name": "stdout",
     "output_type": "stream",
     "text": [
      "True\n"
     ]
    }
   ],
   "source": [
    "cities1 = {\"berlin\", \"madrid\", \"dehli\", \"tokyo\"}\n",
    "cities3 = {\"madrid\", \"dehli\", \"tokyo\"}\n",
    "print(cities3.issubset(cities1))"
   ]
  },
  {
   "cell_type": "markdown",
   "metadata": {},
   "source": [
    "#Add()\n",
    "1. if you want to add a single item in set."
   ]
  },
  {
   "cell_type": "code",
   "execution_count": 22,
   "metadata": {},
   "outputs": [
    {
     "name": "stdout",
     "output_type": "stream",
     "text": [
      "{'dehli', 'madrid', 'berlin', 'Karachi', 'tokyo'}\n"
     ]
    }
   ],
   "source": [
    "cities1 = {\"berlin\", \"madrid\", \"dehli\", \"tokyo\"}\n",
    "cities1.add(\"Karachi\")\n",
    "print(cities1)"
   ]
  },
  {
   "cell_type": "markdown",
   "metadata": {},
   "source": [
    "# update()\n",
    "1. if you want to add more than 1 item."
   ]
  },
  {
   "cell_type": "code",
   "execution_count": 25,
   "metadata": {},
   "outputs": [
    {
     "name": "stdout",
     "output_type": "stream",
     "text": [
      "{'dehli', 'madrid', 'Karachi', 'Faisalabad', 'berlin', 'tokyo', 'Lahore'}\n"
     ]
    }
   ],
   "source": [
    "cities1 = {\"berlin\", \"madrid\", \"dehli\", \"tokyo\"}\n",
    "cities3={\"Karachi\", \"Lahore\", \"Faisalabad\"}\n",
    "cities1.update(cities3)\n",
    "print(cities1)"
   ]
  },
  {
   "cell_type": "markdown",
   "metadata": {},
   "source": [
    "#remove() /discard()\n",
    "1. to remove the item from the set but remove raise error and discard does not raise error.\n",
    "2. that is the differenece between them.\n",
    "3. if we miss type something or given value were wrong so remove generate an error but discard does not."
   ]
  },
  {
   "cell_type": "code",
   "execution_count": 27,
   "metadata": {},
   "outputs": [
    {
     "name": "stdout",
     "output_type": "stream",
     "text": [
      "{'berlin', 'dehli', 'tokyo'}\n"
     ]
    }
   ],
   "source": [
    "cities1 = {\"berlin\", \"madrid\", \"dehli\", \"tokyo\"}\n",
    "cities1.remove(\"madrid\")\n",
    "print(cities1)\n"
   ]
  },
  {
   "cell_type": "code",
   "execution_count": 29,
   "metadata": {},
   "outputs": [
    {
     "name": "stdout",
     "output_type": "stream",
     "text": [
      "{'berlin', 'dehli', 'madrid', 'tokyo'}\n"
     ]
    }
   ],
   "source": [
    "# here is the wrong value of element but discard does not throwing any error.\n",
    "cities1 = {\"berlin\", \"madrid\", \"dehli\", \"tokyo\"}\n",
    "cities1.discard(\"madrid2\")\n",
    "print(cities1)"
   ]
  },
  {
   "cell_type": "markdown",
   "metadata": {},
   "source": [
    "# pop()\n",
    "1. pop will eliminate the last value but sets are unordered that's why we dont know which value from the set is eliminated but we can access the eliminated element.\n"
   ]
  },
  {
   "cell_type": "code",
   "execution_count": 38,
   "metadata": {},
   "outputs": [
    {
     "name": "stdout",
     "output_type": "stream",
     "text": [
      "{'berlin', 'dehli', 'madrid', 'tokyo'}\n",
      "berlin\n"
     ]
    }
   ],
   "source": [
    "cities = {\"berlin\", \"madrid\", \"dehli\", \"tokyo\"}\n",
    "print(cities)\n",
    "# if we want to access the popped value\n",
    "item = cities.pop()\n",
    "print(item)"
   ]
  },
  {
   "cell_type": "markdown",
   "metadata": {},
   "source": [
    "# del\n",
    "1. del is not a method, it is a keyword, so we can delete any element by del keyword.\n",
    "2. if we want to delete entire set and if we want to see in console so it will generate an error because we have already deleted the entire set."
   ]
  },
  {
   "cell_type": "code",
   "execution_count": 39,
   "metadata": {},
   "outputs": [
    {
     "ename": "NameError",
     "evalue": "name 'cities' is not defined",
     "output_type": "error",
     "traceback": [
      "\u001b[1;31m---------------------------------------------------------------------------\u001b[0m",
      "\u001b[1;31mNameError\u001b[0m                                 Traceback (most recent call last)",
      "Cell \u001b[1;32mIn[39], line 3\u001b[0m\n\u001b[0;32m      1\u001b[0m cities \u001b[38;5;241m=\u001b[39m {\u001b[38;5;124m\"\u001b[39m\u001b[38;5;124mberlin\u001b[39m\u001b[38;5;124m\"\u001b[39m, \u001b[38;5;124m\"\u001b[39m\u001b[38;5;124mmadrid\u001b[39m\u001b[38;5;124m\"\u001b[39m, \u001b[38;5;124m\"\u001b[39m\u001b[38;5;124mdehli\u001b[39m\u001b[38;5;124m\"\u001b[39m, \u001b[38;5;124m\"\u001b[39m\u001b[38;5;124mtokyo\u001b[39m\u001b[38;5;124m\"\u001b[39m}\n\u001b[0;32m      2\u001b[0m \u001b[38;5;28;01mdel\u001b[39;00m cities\n\u001b[1;32m----> 3\u001b[0m \u001b[38;5;28mprint\u001b[39m(\u001b[43mcities\u001b[49m)\n",
      "\u001b[1;31mNameError\u001b[0m: name 'cities' is not defined"
     ]
    }
   ],
   "source": [
    "cities = {\"berlin\", \"madrid\", \"dehli\", \"tokyo\"}\n",
    "del cities\n",
    "print(cities)"
   ]
  },
  {
   "cell_type": "markdown",
   "metadata": {},
   "source": [
    "# clear()\n",
    "\n",
    "1. if we dont want to delete entire set so we can use clear method and it will clear and the element but set will remian."
   ]
  },
  {
   "cell_type": "code",
   "execution_count": 40,
   "metadata": {},
   "outputs": [
    {
     "name": "stdout",
     "output_type": "stream",
     "text": [
      "set()\n"
     ]
    }
   ],
   "source": [
    "cities = {\"berlin\", \"madrid\", \"dehli\", \"tokyo\"}\n",
    "cities.clear()\n",
    "print(cities)"
   ]
  },
  {
   "cell_type": "markdown",
   "metadata": {},
   "source": [
    "#is keyword k through hum check kar saktay hain k ye element mojod hai set main ya nahi."
   ]
  },
  {
   "cell_type": "code",
   "execution_count": 43,
   "metadata": {},
   "outputs": [
    {
     "name": "stdout",
     "output_type": "stream",
     "text": [
      "faizan is absent\n"
     ]
    }
   ],
   "source": [
    "info = {\"carla\", 19, False, 5.9}\n",
    "if \"faizan\" in info:\n",
    "    print(\"faizan is present\")\n",
    "else:\n",
    "    print(\"faizan is absent\")\n",
    "    "
   ]
  }
 ],
 "metadata": {
  "kernelspec": {
   "display_name": "Python 3",
   "language": "python",
   "name": "python3"
  },
  "language_info": {
   "codemirror_mode": {
    "name": "ipython",
    "version": 3
   },
   "file_extension": ".py",
   "mimetype": "text/x-python",
   "name": "python",
   "nbconvert_exporter": "python",
   "pygments_lexer": "ipython3",
   "version": "3.13.2"
  }
 },
 "nbformat": 4,
 "nbformat_minor": 2
}
