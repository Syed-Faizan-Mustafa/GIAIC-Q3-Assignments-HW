{
 "cells": [
  {
   "cell_type": "markdown",
   "metadata": {},
   "source": [
    "# 01-String Methods"
   ]
  },
  {
   "cell_type": "code",
   "execution_count": 6,
   "metadata": {},
   "outputs": [
    {
     "name": "stdout",
     "output_type": "stream",
     "text": [
      "FAIZAN MUSTAFA\n",
      "faizan mustafa\n",
      "Faizan mustafa\n",
      "Faizan Mustafa\n"
     ]
    }
   ],
   "source": [
    "name= \"faizan mustafa\"\n",
    "print(name.upper())\n",
    "print(name.lower())\n",
    "print(name.capitalize())\n",
    "print(name.title())"
   ]
  },
  {
   "cell_type": "markdown",
   "metadata": {},
   "source": [
    "# 02-String Modification"
   ]
  },
  {
   "cell_type": "code",
   "execution_count": 51,
   "metadata": {},
   "outputs": [
    {
     "name": "stdout",
     "output_type": "stream",
     "text": [
      "Faizan Mustafa\n",
      "Faizan Mustafa     \n",
      "     Faizan Mustafa\n",
      "eid mubarak\n",
      "maat\n",
      "maet\n",
      "['jan', ' feb', ' mar', ' apr', ' may', ' jun']\n",
      "jan/ feb/ mar/ apr/ may/ jun\n"
     ]
    }
   ],
   "source": [
    "# 01 strip,lstrip,rstrip\n",
    "name = \"     Faizan Mustafa     \"\n",
    "print(name.strip())\n",
    "print(name.lstrip())\n",
    "print(name.rstrip())\n",
    "\n",
    "# 02 replace\n",
    "value = \"ramazan mubarak\"\n",
    "value2 = \"meet\"\n",
    "\n",
    "print(value.replace(\"ramazan\",\"eid\"))\n",
    "print(value2.replace(\"e\",\"a\"))\n",
    "print(value2.replace(\"e\",\"a\", 1)) # 1st replace from 2nd replace to and 3rd kitni baar replace karna hai \n",
    "\n",
    "\n",
    "# 03 split\n",
    "value = \"jan, feb, mar, apr, may, jun\"\n",
    "print(value.split(\",\")) # split function hamaray liye ek list ya array generate karta hai, hamain kisi bhi specific point\n",
    "# se split karwana chahtay hain hum woh point mention kardengay split k aurgument main.\n",
    "\n",
    "\n",
    "# 04 join -> join function kisi bhi list ko string main convert karta hain or join kardeta hai lekin agar main chahta hon\n",
    "# k list main gap kaha se lon tuo mene jo empty string print main pass kia hai mujhey us empty string se khailna parayga result\n",
    "# ko apne mutabik lanay k liye.\n",
    "\n",
    "list=['jan', ' feb', ' mar', ' apr', ' may', ' jun']\n",
    "print(\"/\".join(list)) # ye woh empty string hai jis se main result ko control kar sakta hon k mujhey gap kitna chahiye ya mujhey\n",
    "# obligue ka sign chahiye ya mujhey coma chahiye kuch bhi.\n"
   ]
  },
  {
   "cell_type": "markdown",
   "metadata": {},
   "source": [
    "# 03-String Inspection"
   ]
  },
  {
   "cell_type": "code",
   "execution_count": 33,
   "metadata": {},
   "outputs": [
    {
     "name": "stdout",
     "output_type": "stream",
     "text": [
      "15\n"
     ]
    }
   ],
   "source": [
    "# 01-length method\n",
    "first_name = \"Arsalan Mustafa\"\n",
    "print(len(first_name))\n",
    "# print(first_name.count(first_name))\n",
    "\n"
   ]
  },
  {
   "cell_type": "code",
   "execution_count": 36,
   "metadata": {},
   "outputs": [
    {
     "name": "stdout",
     "output_type": "stream",
     "text": [
      "index method 1\n",
      "find method 1\n"
     ]
    }
   ],
   "source": [
    "# 02-index and find method\n",
    "value = \"ramazan mubarak\"\n",
    "# index always show 1st accurance \"index method main jo pehli baar mil jaye woh show kardega\".\n",
    "print(\"index method\",value.index(\"a\"))\n",
    "# find always show 1st accurance \"find method main jo pehli baar mil jaye woh show kardega\" find and index do the same work. but findings differently, by index we find index number and by find we find specific item.\n",
    "print(\"find method\",value.find(\"a\"))\n",
    "# there is the major difference in index and find method: if index method cant find the value so it will generate an error and break the code.\n",
    "# but  in find method it will not generate any error. and code will run properly."
   ]
  },
  {
   "cell_type": "code",
   "execution_count": 45,
   "metadata": {},
   "outputs": [
    {
     "name": "stdout",
     "output_type": "stream",
     "text": [
      "True\n",
      "False\n",
      "Ramazan Mubarak\n"
     ]
    }
   ],
   "source": [
    "# startswith and endswith methods\n",
    "value = \"ramazan mubarak\"\n",
    "print(value.startswith(\"ramazan\")) # agar hum check karna chahtay hain k hamara pehla word kia waqai us he word se shuru hoa hai jo humne set kia hai.\n",
    "print(value.endswith(\"eid\")) # agar hum check karna chahtay hain k hamara akhri word kia waqai us he word se end hoa hai jo humne set kia hai.\n",
    "\n",
    "if value.startswith (\"ramazan\"):\n",
    "    print(\"Ramazan Mubarak\")\n",
    "else:\n",
    "    print(\"Eid Mubarak\")\n"
   ]
  }
 ],
 "metadata": {
  "kernelspec": {
   "display_name": "Python 3",
   "language": "python",
   "name": "python3"
  },
  "language_info": {
   "codemirror_mode": {
    "name": "ipython",
    "version": 3
   },
   "file_extension": ".py",
   "mimetype": "text/x-python",
   "name": "python",
   "nbconvert_exporter": "python",
   "pygments_lexer": "ipython3",
   "version": "3.13.2"
  }
 },
 "nbformat": 4,
 "nbformat_minor": 2
}
