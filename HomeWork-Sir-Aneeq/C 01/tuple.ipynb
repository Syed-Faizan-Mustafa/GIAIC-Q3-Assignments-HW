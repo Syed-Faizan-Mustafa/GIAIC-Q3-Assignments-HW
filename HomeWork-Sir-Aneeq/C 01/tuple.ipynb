{
 "cells": [
  {
   "cell_type": "markdown",
   "metadata": {},
   "source": [
    "# tuple \n",
    " - tuple are immutable and it has some method also\n",
    " - if have 2 or more numbers of string so type will show in console will be tuple but if we set a 1 value in variable so type will be changed like int or string.\n",
    " - if you want to create a single element tuple so you have to put , after an element then close bracket.otherwise we make confuse python that is we saving a int in variable or string ?"
   ]
  },
  {
   "cell_type": "code",
   "execution_count": 7,
   "metadata": {},
   "outputs": [
    {
     "name": "stdout",
     "output_type": "stream",
     "text": [
      "<class 'tuple'> (1, 2, 9, 10)\n",
      "<class 'int'> 20\n",
      "<class 'tuple'> ('Faizan', 'Ahmed', 'Ahad')\n",
      "<class 'str'> Faizan\n",
      "<class 'tuple'> ('Arsalan',)\n",
      "<class 'tuple'> (200,)\n"
     ]
    }
   ],
   "source": [
    "tup = (1,2,9,10)\n",
    "print(type(tup),tup)\n",
    "\n",
    "tup1 = (20)\n",
    "print(type(tup1), tup1)\n",
    "\n",
    "tupSt= (\"Faizan\", \"Ahmed\", \"Ahad\")\n",
    "print(type(tupSt), tupSt)\n",
    "\n",
    "tupSt1= (\"Faizan\")\n",
    "print(type(tupSt1), tupSt1)\n",
    "\n",
    "# single element tuple\n",
    "tupSt2= (\"Arsalan\",)\n",
    "print(type(tupSt2), tupSt2)\n",
    "\n",
    "tup2= (200,)\n",
    "print(type(tup2), tup2)"
   ]
  },
  {
   "cell_type": "markdown",
   "metadata": {},
   "source": [
    "- tuple is not supporting item assignment because tuple is immutable.\n",
    "- tuples are useful when you want to create a constant list.\n",
    "- tuples are calling by index number.\n",
    "- positive indexing and negative indexing are the same like list.\n",
    "- we can also slicing the tuple but after slicing it will generate a new tuple because tuples are immuteable."
   ]
  },
  {
   "cell_type": "code",
   "execution_count": 9,
   "metadata": {},
   "outputs": [
    {
     "name": "stdout",
     "output_type": "stream",
     "text": [
      "0\n",
      "10\n",
      "20\n",
      "30\n",
      "40\n",
      "Faizan\n",
      "Ahmed\n",
      "Ahad\n"
     ]
    }
   ],
   "source": [
    "tup = (0,10,20,30,40,50,60,70,80,90)\n",
    "print(tup[0])\n",
    "print(tup[1])\n",
    "print(tup[2])\n",
    "print(tup[3])\n",
    "print(tup[4])\n",
    "# print(tup[333]) it will generate an error and program terminated so next line will not be executed.\n",
    "\n",
    "tupSt= (\"Faizan\", \"Ahmed\", \"Ahad\")\n",
    "print(tupSt[0])\n",
    "print(tupSt[1])\n",
    "print(tupSt[2])"
   ]
  },
  {
   "cell_type": "code",
   "execution_count": 1,
   "metadata": {},
   "outputs": [
    {
     "name": "stdout",
     "output_type": "stream",
     "text": [
      "Number of times 2 appears: 3\n"
     ]
    }
   ],
   "source": [
    "# count() method\n",
    "# The count() method in a tuple is used to count the number of times a specific value appears in the tuple.\n",
    "numbers = (1, 2, 3, 4, 2, 2, 5, 6)\n",
    "\n",
    "# Count occurrences of '2' in the tuple\n",
    "count_2 = numbers.count(2)\n",
    "\n",
    "print(\"Number of times 2 appears:\", count_2)\n"
   ]
  },
  {
   "cell_type": "code",
   "execution_count": 2,
   "metadata": {},
   "outputs": [
    {
     "name": "stdout",
     "output_type": "stream",
     "text": [
      "Index of 'banana': 1\n"
     ]
    }
   ],
   "source": [
    "# index() method\n",
    "# The index() method in a tuple returns the first occurrence of a specified value.\n",
    "fruits = (\"apple\", \"banana\", \"cherry\", \"banana\", \"orange\")\n",
    "\n",
    "# Get the index of 'banana'\n",
    "index_banana = fruits.index(\"banana\")\n",
    "\n",
    "print(\"Index of 'banana':\", index_banana)\n",
    "# Note: If the value is not found in the tuple, Python will raise a ValueError."
   ]
  }
 ],
 "metadata": {
  "kernelspec": {
   "display_name": "Python 3",
   "language": "python",
   "name": "python3"
  },
  "language_info": {
   "codemirror_mode": {
    "name": "ipython",
    "version": 3
   },
   "file_extension": ".py",
   "mimetype": "text/x-python",
   "name": "python",
   "nbconvert_exporter": "python",
   "pygments_lexer": "ipython3",
   "version": "3.13.2"
  }
 },
 "nbformat": 4,
 "nbformat_minor": 2
}
